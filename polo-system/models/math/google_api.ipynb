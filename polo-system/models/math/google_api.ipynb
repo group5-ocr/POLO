{
 "cells": [
  {
   "cell_type": "code",
   "execution_count": 1,
   "id": "5bbfef96",
   "metadata": {},
   "outputs": [
    {
     "name": "stdout",
     "output_type": "stream",
     "text": [
      "True\n"
     ]
    }
   ],
   "source": [
    "import torch\n",
    "\n",
    "print(torch.cuda.is_available())"
   ]
  },
  {
   "cell_type": "code",
   "execution_count": 17,
   "id": "5c33c788",
   "metadata": {},
   "outputs": [
    {
     "name": "stdout",
     "output_type": "stream",
     "text": [
      "✅ 환경변수 설정 완료\n"
     ]
    }
   ],
   "source": [
    "import os\n",
    "\n",
    "# [1] GCP 서비스 계정 키(JSON) 파일 경로\n",
    "os.environ[\"GOOGLE_APPLICATION_CREDENTIALS\"] = r\"C:\\POLO\\polo-system\\models\\math\\stone-booking-466716-n6-f6fff7380e05.json\"\n",
    "\n",
    "# [2] GCP 프로젝트 ID  (구글 클라우드 콘솔 → 프로젝트 정보 → 프로젝트 ID)\n",
    "os.environ[\"GOOGLE_CLOUD_PROJECT\"] = \"stone-booking-466716-n6\"\n",
    "\n",
    "# [3] 번역 API 지역 (기본은 global)\n",
    "os.environ[\"GOOGLE_CLOUD_TRANSLATE_LOCATION\"] = \"global\"\n",
    "\n",
    "print(\"✅ 환경변수 설정 완료\")\n"
   ]
  },
  {
   "cell_type": "code",
   "execution_count": 18,
   "id": "046993c1",
   "metadata": {},
   "outputs": [
    {
     "name": "stdout",
     "output_type": "stream",
     "text": [
      "PROJECT_ID=stone-booking-466716-n6, LOCATION=global\n"
     ]
    }
   ],
   "source": [
    "import os, re, sys\n",
    "from pathlib import Path\n",
    "from typing import Dict, List, Tuple\n",
    "\n",
    "from google.cloud import translate\n",
    "\n",
    "# 환경변수 확인 (GOOGLE_APPLICATION_CREDENTIALS / GOOGLE_CLOUD_PROJECT / GOOGLE_CLOUD_TRANSLATE_LOCATION)\n",
    "PROJECT_ID = os.getenv(\"GOOGLE_CLOUD_PROJECT\")\n",
    "LOCATION   = os.getenv(\"GOOGLE_CLOUD_TRANSLATE_LOCATION\", \"global\")  # 보통 'global'\n",
    "\n",
    "if not PROJECT_ID:\n",
    "    raise RuntimeError(\"환경변수 GOOGLE_CLOUD_PROJECT 가 설정되어 있지 않습니다.\")\n",
    "print(f\"PROJECT_ID={PROJECT_ID}, LOCATION={LOCATION}\")\n"
   ]
  },
  {
   "cell_type": "code",
   "execution_count": 19,
   "id": "a744798d",
   "metadata": {},
   "outputs": [],
   "source": [
    "# 수식/LaTeX 블록은 번역에서 제외 → 보호 토큰으로 치환했다가 번역 후 원복합니다.\n",
    "_MATH_ENV_NAMES = r\"(?:equation|align|gather|multline|eqnarray|cases|split)\\*?\"\n",
    "_MATH_PATTERN = re.compile(\n",
    "    r\"(?P<D2>\\${2}[\\s\\S]*?\\${2})\"           # $$ ... $$\n",
    "    r\"|(?P<D1>(?<!\\\\)\\$[\\s\\S]*?(?<!\\\\)\\$)\"  # $ ... $  (이스케이프된 \\$는 제외)\n",
    "    r\"|(?P<LB>\\\\\\[[\\s\\S]*?\\\\\\])\"            # \\[ ... \\]\n",
    "    r\"|(?P<LP>\\\\\\([\\s\\S]*?\\\\\\))\"            # \\( ... \\)\n",
    "    r\"|(?P<ENV>\\\\begin\\{\"+_MATH_ENV_NAMES+r\"\\}[\\s\\S]*?\\\\end\\{\"+_MATH_ENV_NAMES+r\"\\})\",\n",
    "    re.MULTILINE\n",
    ")\n",
    "\n",
    "def protect_math(text: str) -> Tuple[str, Dict[str, str]]:\n",
    "    holders: Dict[str, str] = {}\n",
    "    def _repl(m):\n",
    "        key = f\"⟦MATH{len(holders)}⟧\"\n",
    "        holders[key] = m.group(0)\n",
    "        return key\n",
    "    return _MATH_PATTERN.sub(_repl, text), holders\n",
    "\n",
    "def restore_math(text: str, holders: Dict[str, str]) -> str:\n",
    "    for k, v in holders.items():\n",
    "        text = text.replace(k, v)\n",
    "    return text\n"
   ]
  },
  {
   "cell_type": "code",
   "execution_count": 20,
   "id": "a910d70a",
   "metadata": {},
   "outputs": [],
   "source": [
    "# 요구사항: 괄호 안의 문자열은 번역하지 않습니다.\n",
    "# 단일 레벨 괄호를 대상으로 하며 줄바꿈 포함 괄호는 제외합니다.\n",
    "_PAREN_PATTERN = re.compile(r\"\\([^()\\n]*\\)\")\n",
    "\n",
    "def protect_parens(text: str) -> Tuple[str, Dict[str, str]]:\n",
    "    holders: Dict[str, str] = {}\n",
    "    idx = 0\n",
    "    def _repl(m):\n",
    "        nonlocal idx\n",
    "        key = f\"⦅PAREN{idx}⦆\"\n",
    "        holders[key] = m.group(0)\n",
    "        idx += 1\n",
    "        return key\n",
    "    return _PAREN_PATTERN.sub(_repl, text), holders\n",
    "\n",
    "def restore_parens(text: str, holders: Dict[str, str]) -> str:\n",
    "    for k, v in holders.items():\n",
    "        text = text.replace(k, v)\n",
    "    return text\n"
   ]
  },
  {
   "cell_type": "code",
   "execution_count": 21,
   "id": "f952f133",
   "metadata": {},
   "outputs": [],
   "source": [
    "def split_into_paragraphs(s: str) -> List[str]:\n",
    "    # 빈 줄 기준 문단 분리\n",
    "    parts, cur = [], []\n",
    "    for line in s.splitlines():\n",
    "        if line.strip() == \"\":\n",
    "            parts.append(\"\\n\".join(cur))\n",
    "            parts.append(\"\")  # 빈 문단 유지\n",
    "            cur = []\n",
    "        else:\n",
    "            cur.append(line)\n",
    "    parts.append(\"\\n\".join(cur))\n",
    "    return parts\n",
    "\n",
    "def join_paragraphs(paras: List[str]) -> str:\n",
    "    # split 방식과 동일하게 빈 줄을 끼워넣어 원래 형태에 가깝게 복원\n",
    "    out = []\n",
    "    for i, p in enumerate(paras):\n",
    "        out.append(p)\n",
    "        if i < len(paras) - 1:\n",
    "            out.append(\"\")  # 빈 줄\n",
    "    return \"\\n\".join(out)\n"
   ]
  },
  {
   "cell_type": "code",
   "execution_count": 26,
   "id": "a1033fb2",
   "metadata": {},
   "outputs": [],
   "source": [
    "# Google Cloud Translation v3 클라이언트\n",
    "client = translate.TranslationServiceClient()\n",
    "PARENT = f\"projects/{PROJECT_ID}/locations/{LOCATION}\"\n",
    "BATCH_SIZE = 32  # 너무 크게 잡으면 오류율↑\n",
    "\n",
    "def translate_paragraphs_gcp(paragraphs: List[str], target_lang=\"ko\") -> List[str]:\n",
    "    \"\"\"\n",
    "    각 문단에 대해: 수식 보호 → 괄호 보호 → 번역 → 복원.\n",
    "    - 빈 문단 또는 보호 후에도 실질적으로 빈 텍스트가 된 문단은 API 호출에서 제외(스킵)\n",
    "    - 스킵한 문단은 원문 그대로(out_list에 빈 문자열 등)를 유지\n",
    "    \"\"\"\n",
    "    # 1) 보호\n",
    "    prot_list, holders_math, holders_paren = [], [], []\n",
    "    for para in paragraphs:\n",
    "        if not para.strip():\n",
    "            # 완전 빈 문단: 보존만 하고 번역 스킵\n",
    "            prot_list.append(\"\")\n",
    "            holders_math.append({})\n",
    "            holders_paren.append({})\n",
    "            continue\n",
    "        p1, ph_m = protect_math(para)\n",
    "        p2, ph_p = protect_parens(p1)\n",
    "        prot_list.append(p2)\n",
    "        holders_math.append(ph_m)\n",
    "        holders_paren.append(ph_p)\n",
    "\n",
    "    # 2) 배치 번역\n",
    "    out_list = [\"\"] * len(paragraphs)\n",
    "\n",
    "    def _flush_batch(idxs: List[int]):\n",
    "        if not idxs:\n",
    "            return\n",
    "        # 이 배치에서 **실제로 번역할 인덱스만** 추리기 (빈 내용 스킵)\n",
    "        nonempty = [i for i in idxs if prot_list[i].strip() != \"\"]\n",
    "        if not nonempty:\n",
    "            # 전부 비어있으면 그대로 종료\n",
    "            for i in idxs:\n",
    "                out_list[i] = prot_list[i]  # 대부분 \"\", 즉 빈 문단\n",
    "            return\n",
    "\n",
    "        contents = [prot_list[i] for i in nonempty]\n",
    "        try:\n",
    "            resp = client.translate_text(\n",
    "                request={\n",
    "                    \"parent\": PARENT,\n",
    "                    \"contents\": contents,\n",
    "                    \"mime_type\": \"text/plain\",\n",
    "                    \"target_language_code\": target_lang,\n",
    "                }\n",
    "            )\n",
    "            translated = [t.translated_text for t in resp.translations]\n",
    "        except Exception as e:\n",
    "            print(\"[Translate Error][GCP]\", e, file=sys.stderr)\n",
    "            translated = contents  # 실패 시 원문 유지\n",
    "\n",
    "        # 번역한 것만 복원/반영\n",
    "        for j, idx in enumerate(nonempty):\n",
    "            t = translated[j]\n",
    "            t = restore_parens(t, holders_paren[idx])\n",
    "            t = restore_math(t, holders_math[idx])\n",
    "            out_list[idx] = t\n",
    "\n",
    "        # 비어있는 항목은 원문(빈 문자열 등) 유지\n",
    "        for i in set(idxs) - set(nonempty):\n",
    "            out_list[i] = prot_list[i]\n",
    "\n",
    "    buf = []\n",
    "    for i in range(len(paragraphs)):\n",
    "        buf.append(i)\n",
    "        if len(buf) >= BATCH_SIZE:\n",
    "            _flush_batch(buf); buf.clear()\n",
    "    _flush_batch(buf)\n",
    "\n",
    "    return out_list\n"
   ]
  },
  {
   "cell_type": "code",
   "execution_count": 27,
   "id": "81cf1707",
   "metadata": {},
   "outputs": [],
   "source": [
    "def translate_tex_file(input_path: str, output_path: str | None = None) -> str:\n",
    "    in_path = Path(input_path)\n",
    "    if not in_path.exists():\n",
    "        raise FileNotFoundError(f\"입력 파일이 없습니다: {input_path}\")\n",
    "\n",
    "    tex = in_path.read_text(encoding=\"utf-8\", errors=\"ignore\")\n",
    "\n",
    "    paras = split_into_paragraphs(tex)\n",
    "    paras_tr = translate_paragraphs_gcp(paras, target_lang=\"ko\")\n",
    "    result = join_paragraphs(paras_tr)\n",
    "\n",
    "    if output_path is None:\n",
    "        out_path = in_path.with_suffix(\".ko.tex\") if in_path.suffix.lower() == \".tex\" \\\n",
    "                   else Path(str(in_path) + \".ko.tex\")\n",
    "    else:\n",
    "        out_path = Path(output_path)\n",
    "\n",
    "    out_path.parent.mkdir(parents=True, exist_ok=True)\n",
    "    out_path.write_text(result, encoding=\"utf-8\")\n",
    "    return str(out_path)\n"
   ]
  },
  {
   "cell_type": "code",
   "execution_count": 28,
   "id": "af207d23",
   "metadata": {},
   "outputs": [
    {
     "data": {
      "text/plain": [
       "(True,\n",
       " 'C:\\\\POLO\\\\polo-system\\\\models\\\\math\\\\_build_yolo\\\\yolo_math_report.tex')"
      ]
     },
     "execution_count": 28,
     "metadata": {},
     "output_type": "execute_result"
    }
   ],
   "source": [
    "INPUT_TEX = r\"C:\\POLO\\polo-system\\models\\math\\_build_yolo\\yolo_math_report.tex\"  # ← 필요시 수정\n",
    "OUTPUT_TEX = None  # None이면 yolo_math_report.ko.tex로 자동 저장\n",
    "Path(INPUT_TEX).exists(), INPUT_TEX\n"
   ]
  },
  {
   "cell_type": "code",
   "execution_count": 29,
   "id": "d71fa4af",
   "metadata": {},
   "outputs": [
    {
     "name": "stdout",
     "output_type": "stream",
     "text": [
      "[OK] 번역본 저장: C:\\POLO\\polo-system\\models\\math\\_build_yolo\\yolo_math_report.ko.tex\n"
     ]
    }
   ],
   "source": [
    "out_path = translate_tex_file(INPUT_TEX, OUTPUT_TEX)\n",
    "print(f\"[OK] 번역본 저장: {out_path}\")\n"
   ]
  },
  {
   "cell_type": "code",
   "execution_count": 30,
   "id": "0bba14a5",
   "metadata": {},
   "outputs": [
    {
     "name": "stdout",
     "output_type": "stream",
     "text": [
      "\\\\documentclass[11pt]{article}\n",
      "\\\\usepackage[margin=1in]{geometry}\n",
      "\\\\usepackage{amsmath, amssymb, amsfonts}\n",
      "\\\\usepackage{hyperref}\n",
      "\\\\usepackage{kotex}\n",
      "\\\\setlength{\\\\parskip}{6pt}\n",
      "\\\\setlength{\\\\parindent}{0pt}\n",
      "\\\\title{LaTeX 수식 설명 보고서 (Middle-School Level+)}\n",
      "\\\\author{자동 파이프라인}\n",
      "\\\\date{2025-09-11}\n",
      "\\\\begin{document}\n",
      "\\\\maketitle\n",
      "\\\\tableofcontents\n",
      "\\\\newpage\n",
      "\n",
      "\n",
      "\n",
      "\\\\section*{문서 개요}\n",
      "보조원\n",
      "일반 기술 독자를 대상으로 명확하고 간결한 기술 문서를 작성합니다.\n",
      "\n",
      "\n",
      "\n",
      "\\새 페이지\n",
      "\n",
      "\n",
      "\n",
      "\\section*{91–91행 / inline(\\$ \\$) }\n",
      "assistant\n",
      "주어진 방정식을 단계별로 분석해 보겠습니다.\n",
      "\n",
      "\n",
      "\n",
      "### 예시\n",
      "방정식은 다음과 같습니다.\n",
      "\\[ 448 \\times 448 \\]\n",
      "\n",
      "\n",
      "\n",
      "### 설명\n",
      "이 방정식을 명확하게 설명하기 위해 방정식을 구성 요소와 그 역할로 나누어 보겠습니다.\n",
      "\n",
      "\n",
      "\n",
      "1. ** 기호**: 이 기호는 곱셈을 나타냅니다. 448이라는 숫자에 그 숫자를 곱한다는 것을 나타냅니다.\n",
      "2. ** 기호**: 이 기호는 448이라는 숫자를 나타냅니다. 448은 우리가 곱하는 숫자입니다.\n",
      "\n",
      "\n",
      "\n",
      "따라서 \\( 448 \\times 448 \\) 방정식은 448을 그 자체로 곱한다는 것을 의미합니다. 다시 말해, 448의 제곱을 구하는 것입니다.\n",
      "\n",
      "\n",
      "\n",
      "### 결론\n",
      "이 방정식의 핵심 목적은 숫자 448의 제곱을 계산하는 것입니다. 이 논문의 맥락에서, 이는 한 변의 길이가 448인 정사각형의 면적을 계산하는 등 다양한 목적에 유용할 수 있으며, 448의 제곱을 사용하여 어떤 양이나 값을 나타내는 더 큰 수학적 모델의 일부가 될 수도 있습니다.\n",
      "\n",
      "\n",
      "\n",
      "따라서 결론은 다음과 같이 요약할 수 있습니다.\n",
      "\\[ \\boxed{448^2} \\]\n"
     ]
    }
   ],
   "source": [
    "# 번역된 파일의 앞부분 60줄만 미리보기\n",
    "preview_lines = 60\n",
    "with open(out_path, \"r\", encoding=\"utf-8\", errors=\"ignore\") as f:\n",
    "    for i, line in enumerate(f):\n",
    "        if i >= preview_lines: break\n",
    "        print(line.rstrip(\"\\n\"))\n"
   ]
  }
 ],
 "metadata": {
  "kernelspec": {
   "display_name": "venv",
   "language": "python",
   "name": "python3"
  },
  "language_info": {
   "codemirror_mode": {
    "name": "ipython",
    "version": 3
   },
   "file_extension": ".py",
   "mimetype": "text/x-python",
   "name": "python",
   "nbconvert_exporter": "python",
   "pygments_lexer": "ipython3",
   "version": "3.11.9"
  }
 },
 "nbformat": 4,
 "nbformat_minor": 5
}
